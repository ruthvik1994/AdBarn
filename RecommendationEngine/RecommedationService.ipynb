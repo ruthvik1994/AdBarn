{
 "cells": [
  {
   "cell_type": "code",
   "execution_count": 1,
   "metadata": {},
   "outputs": [
    {
     "name": "stdout",
     "output_type": "stream",
     "text": [
      "[(1, 1, 5), (3, 2, 1), (3, 1, 1), (1, 2, 10), (2, 4, 1), (2, 1, 6), (2, 2, 2), (3, 3, 1)]\n"
     ]
    }
   ],
   "source": [
    "# DATA format\n",
    "'''\n",
    "\n",
    "# Retrieve Data\n",
    "# Data format. Each item in the list represents userid, video_id, num of times viewed / rating\n",
    "user_ad_views = [[1,1,5],\n",
    "    [3,2,1],\n",
    "                 [3,1,1],\n",
    "                 [1,2,10],\n",
    "                 [2,4,1],\n",
    "       [2,1,6],\n",
    "       [2,2,2],\n",
    "       [3,3,1]]\n",
    "user_ad_views = sc.parallelize(user_ad_views)\n",
    "user_ad_views = user_ad_views.map(lambda x:(x[0], x[1], x[2]))\n",
    "\n",
    "ad_names = [(1,\"one\"),(2,\"two\"),(3,\"three\"),(4,\"four\")]\n",
    "ad_names = sc.parallelize(ad_names)\n",
    "# print (user_ad_views.collect())\n",
    "\n",
    "'''"
   ]
  },
  {
   "cell_type": "code",
   "execution_count": 4,
   "metadata": {},
   "outputs": [
    {
     "name": "stdout",
     "output_type": "stream",
     "text": [
      "[(1, 1, 1), (2, 1, 1), (2, 6, 1), (2, 7, 1), (2, 2, 1), (2, 3, 1), (2, 4, 1), (2, 5, 1), (2, 6, 1), (2, 7, 1), (2, 8, 1), (2, 9, 1), (2, 10, 1), (3, 1, 1), (3, 7, 1), (4, 1, 1), (4, 7, 1), (4, 4, 1), (4, 5, 1), (4, 10, 1), (5, 6, 1), (5, 7, 1), (5, 10, 1), (6, 1, 1), (6, 7, 1), (6, 2, 1), (6, 4, 1), (6, 8, 1), (7, 1, 1), (7, 6, 1), (7, 5, 1), (7, 6, 1), (7, 7, 1), (7, 8, 1), (7, 10, 1), (8, 1, 1), (8, 10, 1), (9, 5, 1), (9, 6, 1), (9, 7, 1), (9, 8, 1), (10, 1, 1), (10, 6, 1), (10, 7, 1), (10, 9, 1)]\n",
      "[(1, u'laptop1'), (2, u'laptop2'), (3, u'clothing1'), (4, u'clothing2'), (5, u'med1'), (6, u'grocery1'), (7, u'sport1'), (8, u'sport2'), (9, u'footwear1'), (10, u'footwear2'), (11, u'laptop4'), (12, u'laptop3'), (13, u'cothing3'), (14, u'clothing4'), (15, u'cos1'), (16, u'cos3'), (17, u'movie1'), (18, u'movie2'), (19, u'rest1'), (20, u'rest2'), (21, u'groc1'), (22, u'groc2'), (23, u'sport3'), (24, u'mobile5')]\n"
     ]
    }
   ],
   "source": [
    "# MongoDB connection\n",
    "import pymongo\n",
    "\n",
    "client = pymongo.MongoClient('mongodb://152.46.20.123:27017')\n",
    "db = client.testgridfs\n",
    "\n",
    "# USERS data\n",
    "users = db.users\n",
    "data = []\n",
    "for obj in users.find():\n",
    "    if(len(obj['videosViewed']) >= 1):\n",
    "        for viewed in obj['videosViewed']:\n",
    "            data.append((obj['userId'], viewed['videoId'], 1))\n",
    "print (data)\n",
    "\n",
    "# VIDEOS information\n",
    "videos = db.videos\n",
    "ad_names = []\n",
    "for obj in videos.find():\n",
    "    ad_names.append((obj['videoId'], obj['title']))\n",
    "print (ad_names)\n"
   ]
  },
  {
   "cell_type": "code",
   "execution_count": 5,
   "metadata": {},
   "outputs": [
    {
     "name": "stdout",
     "output_type": "stream",
     "text": [
      "[(6, 4, 1), (6, 8, 1), (4, 10, 1), (2, 8, 1), (7, 7, 1)]\n",
      "[(1, u'laptop1'), (2, u'laptop2')]\n"
     ]
    }
   ],
   "source": [
    "# Forming user-ads-views RDDs\n",
    "user_ad_views = sc.parallelize(data)\n",
    "user_ad_views = user_ad_views.map(lambda x:((x[0], x[1]), x[2]))\n",
    "user_ad_views = user_ad_views.reduceByKey(lambda x, y: x+y)\n",
    "user_ad_views = user_ad_views.map(lambda x:(x[0][0], x[0][1], x[1]))\n",
    "print (user_ad_views.take(5))\n",
    "\n",
    "# Forming ad-names RDDS\n",
    "ad_names = sc.parallelize(ad_names)\n",
    "print (ad_names.take(2))"
   ]
  },
  {
   "cell_type": "code",
   "execution_count": 6,
   "metadata": {},
   "outputs": [
    {
     "name": "stdout",
     "output_type": "stream",
     "text": [
      "[(6, 8, 1), (4, 10, 1), (8, 10, 1), (9, 5, 1), (3, 7, 1), (6, 7, 1), (7, 8, 1), (2, 3, 1), (9, 6, 1), (4, 1, 1), (2, 6, 2), (3, 1, 1), (5, 7, 1), (10, 6, 1), (4, 4, 1), (6, 2, 1), (4, 7, 1), (2, 9, 1), (6, 1, 1), (2, 1, 1), (10, 1, 1), (10, 9, 1)]\n"
     ]
    }
   ],
   "source": [
    "# Data split for cross validation\n",
    "trainData, validationData, testData = user_ad_views.randomSplit([40, 40, 20], 13)\n",
    "print (trainData.collect())"
   ]
  },
  {
   "cell_type": "code",
   "execution_count": 7,
   "metadata": {},
   "outputs": [
    {
     "name": "stdout",
     "output_type": "stream",
     "text": [
      "[8, 4, 1, 5, 9]\n",
      "[1, 2, 3, 4, 5]\n",
      "[(8, 1), (8, 2), (8, 3), (8, 4), (8, 5)]\n",
      "[(6, 8), (4, 10), (8, 10), (9, 5), (3, 7)]\n"
     ]
    }
   ],
   "source": [
    "unique_user = user_ad_views.map(lambda x:(x[0],(x[1], x[2]))).groupByKey().map(lambda x:x[0])\n",
    "unique_ad = ad_names.map(lambda x:x[0])\n",
    "all_pairs = unique_user.cartesian(unique_ad)\n",
    "trainData_m = trainData.map(lambda x:(x[0], x[1]))\n",
    "print (unique_user.take(5))\n",
    "print (unique_ad.take(5))\n",
    "print (all_pairs.take(5))\n",
    "print (trainData_m.take(5))"
   ]
  },
  {
   "cell_type": "code",
   "execution_count": 8,
   "metadata": {
    "collapsed": true
   },
   "outputs": [],
   "source": [
    "# Evaluating a model\n",
    "\n",
    "def computeAvg(rdd):\n",
    "    userid, pre, to_c = rdd[0], list(rdd[1][0]), list(rdd[1][1])\n",
    "    to_c = sc.parallelize(to_c).map(lambda x:x[0]).collect()\n",
    "    X = len(to_c)\n",
    "    pre = sc.parallelize(pre).sortBy(lambda x:-x[1]).map(lambda x:x[0]).collect()[:X]\n",
    "    same = 0\n",
    "    for i in pre:\n",
    "        if i in to_c: same+=1\n",
    "    return same*1.0/X\n",
    "        \n",
    "    \n",
    "def modelEval(model, validationData):\n",
    "    to_be_predicted = all_pairs.subtract(trainData_m)\n",
    "    predicted_data = model.predictAll(to_be_predicted).map(lambda x:(x[0], (x[1], x[2]))).groupByKey()\n",
    "    to_compare = validationData.subtract(trainData).map(lambda x:(x[0], (x[1], x[2]))).groupByKey()\n",
    "    merge = predicted_data.join(to_compare)\n",
    "    total = 0\n",
    "    for each in merge.collect():\n",
    "        total+=computeAvg(each)\n",
    "    return (total*1.0/50)"
   ]
  },
  {
   "cell_type": "code",
   "execution_count": 9,
   "metadata": {},
   "outputs": [
    {
     "name": "stdout",
     "output_type": "stream",
     "text": [
      "The model score for rank 1 is 0.046667\n",
      "The model score for rank 2 is 0.006667\n",
      "The model score for rank 3 is 0.060000\n"
     ]
    }
   ],
   "source": [
    "# Building the model\n",
    "from pyspark.mllib.recommendation import *\n",
    "import random\n",
    "from operator import *\n",
    "\n",
    "for rank in [1, 2, 3]:\n",
    "    model = ALS.trainImplicit(trainData, rank = rank, seed = 345)\n",
    "    modelScore = modelEval(model, validationData)\n",
    "    print \"The model score for rank %d is %f\"%(rank, modelScore)"
   ]
  },
  {
   "cell_type": "code",
   "execution_count": 10,
   "metadata": {},
   "outputs": [
    {
     "name": "stdout",
     "output_type": "stream",
     "text": [
      "Model Score for best model, rank = 10 is 0.046667\n"
     ]
    }
   ],
   "source": [
    "bestModel = ALS.trainImplicit(trainData, rank=1, seed=345)\n",
    "ans = modelEval(bestModel, testData)\n",
    "print \"Model Score for best model, rank = 10 is %f\"%(ans)\n"
   ]
  },
  {
   "cell_type": "code",
   "execution_count": 37,
   "metadata": {},
   "outputs": [
    {
     "name": "stdout",
     "output_type": "stream",
     "text": [
      "[Rating(user=2, product=1, rating=1.1812443516124844), Rating(user=2, product=6, rating=0.6369860890532593)]\n"
     ]
    }
   ],
   "source": [
    "# Recommend for a single user\n",
    "top = bestModel.recommendProducts(2, 2)\n",
    "print (top)"
   ]
  },
  {
   "cell_type": "code",
   "execution_count": 11,
   "metadata": {},
   "outputs": [
    {
     "name": "stdout",
     "output_type": "stream",
     "text": [
      "[(2, (Rating(user=2, product=1, rating=0.9209411627055033), Rating(user=2, product=7, rating=0.643245298477666), Rating(user=2, product=6, rating=0.39742814094009304))), (3, (Rating(user=3, product=1, rating=0.794531378603125), Rating(user=3, product=7, rating=0.5549524708809983), Rating(user=3, product=6, rating=0.34287655010354356)))]\n",
      "[(2, [1, 7, 6]), (3, [1, 7, 6])]\n"
     ]
    }
   ],
   "source": [
    "# Recommendations for all users - concurrently and process each one\n",
    "def ratingstoList(ratings):\n",
    "    l = []\n",
    "    for each in ratings:\n",
    "        l.append(each[1])\n",
    "    return l\n",
    "recommendations_raw = bestModel.recommendProductsForUsers(3)\n",
    "print (recommendations_raw.take(2))\n",
    "recommendations = recommendations_raw.map(lambda x: (x[0], ratingstoList(x[1])))\n",
    "print (recommendations.take(2))"
   ]
  },
  {
   "cell_type": "code",
   "execution_count": 59,
   "metadata": {},
   "outputs": [
    {
     "name": "stdout",
     "output_type": "stream",
     "text": [
      "laptop1\n"
     ]
    }
   ],
   "source": [
    "# get ad name using the video Id\n",
    "'''\n",
    "client = pymongo.MongoClient('mongodb://152.46.20.123:27017')\n",
    "db = client.testgridfs\n",
    "ads = db.videos\n",
    "temp = ads.find_one({\"videoId\": 1})\n",
    "print (temp['title'])\n",
    "'''"
   ]
  },
  {
   "cell_type": "code",
   "execution_count": 13,
   "metadata": {},
   "outputs": [
    {
     "name": "stdout",
     "output_type": "stream",
     "text": [
      "[1, 1, 1, 1, 1, 1, 1, 1, 1]\n"
     ]
    }
   ],
   "source": [
    "# Store back the recommendations into Database\n",
    "def store_function(x):\n",
    "    client = pymongo.MongoClient('mongodb://152.46.20.123:27017')\n",
    "    db = client.testgridfs\n",
    "    users = db.users\n",
    "    ads = db.videos\n",
    "    rec = []\n",
    "    for recommendation in x[1]:\n",
    "        temp = ads.find_one({\"videoId\": recommendation})\n",
    "        rec.append(temp)\n",
    "    users.find_one_and_update({\"userId\": x[0]}, \n",
    "                                 {\"$set\": {\"recommendations\":rec}})\n",
    "    return 1\n",
    "    \n",
    "store = recommendations.map(lambda x: store_function(x))\n",
    "print (store.collect())"
   ]
  },
  {
   "cell_type": "code",
   "execution_count": 3,
   "metadata": {},
   "outputs": [
    {
     "data": {
      "text/plain": [
       "{u'__v': 13,\n",
       " u'_id': ObjectId('5ade031c5c7eae0014d001cf'),\n",
       " u'coins': 0,\n",
       " u'emailId': u'user1@gmail.com',\n",
       " u'password': u'testtest',\n",
       " u'recommendations': [[1, u'laptop1'], [6, u'grocery1'], [4, u'clothing2']],\n",
       " u'time': 655963.72,\n",
       " u'userId': 2,\n",
       " u'username': u'user1',\n",
       " u'videosLiked': [{u'_id': ObjectId('5ade032d5c7eae0014d001d0'),\n",
       "   u'videoId': 1}],\n",
       " u'videosViewed': [{u'_id': ObjectId('5ade060f5c7eae0014d001d4'),\n",
       "   u'videoId': 1},\n",
       "  {u'_id': ObjectId('5ade066b5c7eae0014d001d5'), u'videoId': 6},\n",
       "  {u'_id': ObjectId('5ade06f75c7eae0014d001d6'), u'videoId': 7},\n",
       "  {u'_id': ObjectId('5ade07415c7eae0014d001d7'), u'videoId': 2},\n",
       "  {u'_id': ObjectId('5ade07815c7eae0014d001d8'), u'videoId': 3},\n",
       "  {u'_id': ObjectId('5ade07c05c7eae0014d001d9'), u'videoId': 4},\n",
       "  {u'_id': ObjectId('5ade080c5c7eae0014d001da'), u'videoId': 5},\n",
       "  {u'_id': ObjectId('5ade082e5c7eae0014d001db'), u'videoId': 6},\n",
       "  {u'_id': ObjectId('5ade089c5c7eae0014d001dc'), u'videoId': 7},\n",
       "  {u'_id': ObjectId('5ade08df5c7eae0014d001dd'), u'videoId': 8},\n",
       "  {u'_id': ObjectId('5ade090e5c7eae0014d001de'), u'videoId': 9},\n",
       "  {u'_id': ObjectId('5ade09435c7eae0014d001df'), u'videoId': 10}]}"
      ]
     },
     "execution_count": 3,
     "metadata": {},
     "output_type": "execute_result"
    }
   ],
   "source": [
    "client = pymongo.MongoClient('mongodb://152.46.20.123:27017')\n",
    "db = client.testgridfs\n",
    "users = db.users\n",
    "ads = db.videos\n",
    "rec = []\n",
    "temp = ads.find_one({\"videoId\": 3})\n",
    "rec.append((3, temp['title'], temp))\n",
    "users.find_one_and_update({\"userId\": 2}, \n",
    "                                 {\"$set\": {\"recommendations\":rec}})"
   ]
  },
  {
   "cell_type": "code",
   "execution_count": null,
   "metadata": {
    "collapsed": true
   },
   "outputs": [],
   "source": []
  }
 ],
 "metadata": {
  "kernelspec": {
   "display_name": "Python 2",
   "language": "python",
   "name": "python2"
  },
  "language_info": {
   "codemirror_mode": {
    "name": "ipython",
    "version": 2
   },
   "file_extension": ".py",
   "mimetype": "text/x-python",
   "name": "python",
   "nbconvert_exporter": "python",
   "pygments_lexer": "ipython2",
   "version": "2.7.12"
  }
 },
 "nbformat": 4,
 "nbformat_minor": 2
}
